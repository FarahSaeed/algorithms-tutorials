{
 "cells": [
  {
   "cell_type": "markdown",
   "metadata": {},
   "source": [
    "## Merge Operation"
   ]
  },
  {
   "cell_type": "code",
   "execution_count": 1,
   "metadata": {
    "collapsed": true
   },
   "outputs": [],
   "source": [
    "def merge(list1, list2):\n",
    "    \n",
    "    result = [] ## result list to store the merged result\n",
    "    \n",
    "    i = 0  ## initially i and j are pointing to 0th index\n",
    "    j = 0\n",
    "    \n",
    "    while i < len(list1) and j < len(list2): # this loop ends when either of the lists is completely traversed\n",
    "        \n",
    "        ## if ith element in list1 is less then jth element of list2\n",
    "        ## then add list1[i] to result and increment i \n",
    "        ## else add list2[j] to result and increment j\n",
    "        \n",
    "        if list1[i] < list2[j]:  \n",
    "            result.append( list1[i] )\n",
    "            i += 1\n",
    "        else:\n",
    "            result.append( list2[j] )\n",
    "            j += 1           \n",
    "            \n",
    "    if i < len(list1): # if there are remaining elements in list1 then add them to result\n",
    "        result.extend( list1[i:] )\n",
    "        \n",
    "    elif j < len(list2): # if there are remaining elements in list2 then add them to result\n",
    "        result.extend( list2[j:] )\n",
    "        \n",
    "    return result\n",
    "    "
   ]
  },
  {
   "cell_type": "markdown",
   "metadata": {},
   "source": [
    "## Examples"
   ]
  },
  {
   "cell_type": "markdown",
   "metadata": {},
   "source": [
    "##### Applying merge operation on two equally sized lists"
   ]
  },
  {
   "cell_type": "code",
   "execution_count": 2,
   "metadata": {
    "collapsed": false
   },
   "outputs": [
    {
     "name": "stdout",
     "output_type": "stream",
     "text": [
      " list1:  [9, 12, 15] \n",
      " list2:  [8, 13, 16] \n",
      " merged result:  [8, 9, 12, 13, 15, 16]\n"
     ]
    }
   ],
   "source": [
    "a = [9, 12, 15]\n",
    "b = [8, 13, 16]\n",
    "\n",
    "merged = merge(a,b)\n",
    "print(\" list1: \", a,\"\\n list2: \", b, \"\\n merged result: \", merged )\n"
   ]
  },
  {
   "cell_type": "markdown",
   "metadata": {},
   "source": [
    "##### Applying merge operation on two differently sized lists"
   ]
  },
  {
   "cell_type": "code",
   "execution_count": 3,
   "metadata": {
    "collapsed": false
   },
   "outputs": [
    {
     "name": "stdout",
     "output_type": "stream",
     "text": [
      " list1:  [11, 17] \n",
      " list2:  [8, 13, 16, 18] \n",
      " merged result:  [8, 11, 13, 16, 17, 18]\n"
     ]
    }
   ],
   "source": [
    "a = [11,17]\n",
    "b = [8, 13, 16, 18]\n",
    "\n",
    "merged = merge(a,b)\n",
    "print(\" list1: \", a,\"\\n list2: \", b, \"\\n merged result: \", merged )\n"
   ]
  },
  {
   "cell_type": "markdown",
   "metadata": {},
   "source": [
    "##### Applying merge operation on when one list is empty"
   ]
  },
  {
   "cell_type": "code",
   "execution_count": 4,
   "metadata": {
    "collapsed": false
   },
   "outputs": [
    {
     "name": "stdout",
     "output_type": "stream",
     "text": [
      " list1:  [] \n",
      " list2:  [8, 13, 16, 18] \n",
      " merged result:  [8, 13, 16, 18]\n"
     ]
    }
   ],
   "source": [
    "a = []\n",
    "b = [8, 13, 16, 18]\n",
    "\n",
    "merged = merge(a,b)\n",
    "print(\" list1: \", a,\"\\n list2: \", b, \"\\n merged result: \", merged )"
   ]
  }
 ],
 "metadata": {
  "kernelspec": {
   "display_name": "Python 3",
   "language": "python",
   "name": "python3"
  },
  "language_info": {
   "codemirror_mode": {
    "name": "ipython",
    "version": 3
   },
   "file_extension": ".py",
   "mimetype": "text/x-python",
   "name": "python",
   "nbconvert_exporter": "python",
   "pygments_lexer": "ipython3",
   "version": "3.6.0"
  }
 },
 "nbformat": 4,
 "nbformat_minor": 2
}
