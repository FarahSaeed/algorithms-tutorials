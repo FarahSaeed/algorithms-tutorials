{
 "cells": [
  {
   "cell_type": "markdown",
   "metadata": {},
   "source": [
    "## Merge Operation"
   ]
  },
  {
   "cell_type": "code",
   "execution_count": 13,
   "metadata": {
    "collapsed": true
   },
   "outputs": [],
   "source": [
    "def merge(list1, list2):\n",
    "    \n",
    "    result = [] ## result list to store the merged result\n",
    "    \n",
    "    i = 0  ## initially i and j are pointing to 0th index\n",
    "    j = 0\n",
    "    \n",
    "    while i < len(list1) and j < len(list2): # thit \n",
    "        \n",
    "        if list1[i] < list2[j]:\n",
    "            \n",
    "            result.append( list1[i] )\n",
    "            i += 1\n",
    "        else:\n",
    "            result.append( list2[j] )\n",
    "            j += 1           \n",
    "            \n",
    "    if i < len(list1):\n",
    "        result.extend( list1[i:] )\n",
    "        \n",
    "    elif j < len(list2):\n",
    "        result.extend( list2[j:] )\n",
    "        \n",
    "    return result\n",
    "    "
   ]
  },
  {
   "cell_type": "code",
   "execution_count": 14,
   "metadata": {
    "collapsed": false
   },
   "outputs": [
    {
     "data": {
      "text/plain": [
       "[1, 2, 3, 4, 5, 7, 9]"
      ]
     },
     "execution_count": 14,
     "metadata": {},
     "output_type": "execute_result"
    }
   ],
   "source": [
    "merge([1,4,7],[2,3,5,9])"
   ]
  }
 ],
 "metadata": {
  "kernelspec": {
   "display_name": "Python 3",
   "language": "python",
   "name": "python3"
  },
  "language_info": {
   "codemirror_mode": {
    "name": "ipython",
    "version": 3
   },
   "file_extension": ".py",
   "mimetype": "text/x-python",
   "name": "python",
   "nbconvert_exporter": "python",
   "pygments_lexer": "ipython3",
   "version": "3.6.0"
  }
 },
 "nbformat": 4,
 "nbformat_minor": 2
}
